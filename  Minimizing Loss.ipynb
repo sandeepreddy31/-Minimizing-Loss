{
 "cells": [
  {
   "cell_type": "code",
   "execution_count": 1,
   "id": "0461d43a",
   "metadata": {},
   "outputs": [
    {
     "name": "stdout",
     "output_type": "stream",
     "text": [
      "Buy Year: 2\n",
      "Sell Year: 5\n",
      "Loss: 2\n"
     ]
    }
   ],
   "source": [
    "def minimize_loss(prices):\n",
    "    min_loss = float('inf')\n",
    "    buy = sell = -1\n",
    "    for i in range(len(prices)):\n",
    "        for j in range(i + 1, len(prices)):\n",
    "            if prices[j] < prices[i]:\n",
    "                loss = prices[i] - prices[j]\n",
    "                if loss < min_loss:\n",
    "                    min_loss = loss\n",
    "                    buy = i + 1\n",
    "                    sell = j + 1\n",
    "    return buy, sell, min_loss\n",
    "\n",
    "prices = [20, 15, 7, 2, 13]\n",
    "buy, sell, loss = minimize_loss(prices)\n",
    "print(\"Buy Year:\", buy)\n",
    "print(\"Sell Year:\", sell)\n",
    "print(\"Loss:\", loss)"
   ]
  },
  {
   "cell_type": "code",
   "execution_count": null,
   "id": "d0898849",
   "metadata": {},
   "outputs": [],
   "source": []
  }
 ],
 "metadata": {
  "kernelspec": {
   "display_name": "Python 3 (ipykernel)",
   "language": "python",
   "name": "python3"
  },
  "language_info": {
   "codemirror_mode": {
    "name": "ipython",
    "version": 3
   },
   "file_extension": ".py",
   "mimetype": "text/x-python",
   "name": "python",
   "nbconvert_exporter": "python",
   "pygments_lexer": "ipython3",
   "version": "3.11.4"
  }
 },
 "nbformat": 4,
 "nbformat_minor": 5
}
